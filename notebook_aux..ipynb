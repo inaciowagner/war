{
 "cells": [
  {
   "cell_type": "code",
   "execution_count": 87,
   "metadata": {},
   "outputs": [],
   "source": [
    "import pandas as pd"
   ]
  },
  {
   "cell_type": "code",
   "execution_count": 96,
   "metadata": {},
   "outputs": [
    {
     "data": {
      "text/html": [
       "<div>\n",
       "<style scoped>\n",
       "    .dataframe tbody tr th:only-of-type {\n",
       "        vertical-align: middle;\n",
       "    }\n",
       "\n",
       "    .dataframe tbody tr th {\n",
       "        vertical-align: top;\n",
       "    }\n",
       "\n",
       "    .dataframe thead th {\n",
       "        text-align: right;\n",
       "    }\n",
       "</style>\n",
       "<table border=\"1\" class=\"dataframe\">\n",
       "  <thead>\n",
       "    <tr style=\"text-align: right;\">\n",
       "      <th></th>\n",
       "      <th>Data</th>\n",
       "      <th>Lindemberg</th>\n",
       "      <th>César</th>\n",
       "      <th>Cezimar</th>\n",
       "      <th>Eduardo</th>\n",
       "      <th>Ináico</th>\n",
       "    </tr>\n",
       "  </thead>\n",
       "  <tbody>\n",
       "    <tr>\n",
       "      <th>0</th>\n",
       "      <td>2024-07-21</td>\n",
       "      <td>6</td>\n",
       "      <td>4</td>\n",
       "      <td>2</td>\n",
       "      <td>0</td>\n",
       "      <td>0</td>\n",
       "    </tr>\n",
       "    <tr>\n",
       "      <th>1</th>\n",
       "      <td>2024-07-28</td>\n",
       "      <td>7</td>\n",
       "      <td>5</td>\n",
       "      <td>0</td>\n",
       "      <td>0</td>\n",
       "      <td>0</td>\n",
       "    </tr>\n",
       "    <tr>\n",
       "      <th>2</th>\n",
       "      <td>2024-08-03</td>\n",
       "      <td>8</td>\n",
       "      <td>6</td>\n",
       "      <td>4</td>\n",
       "      <td>0</td>\n",
       "      <td>0</td>\n",
       "    </tr>\n",
       "    <tr>\n",
       "      <th>3</th>\n",
       "      <td>2024-08-15</td>\n",
       "      <td>9</td>\n",
       "      <td>7</td>\n",
       "      <td>0</td>\n",
       "      <td>0</td>\n",
       "      <td>0</td>\n",
       "    </tr>\n",
       "    <tr>\n",
       "      <th>4</th>\n",
       "      <td>2024-08-24</td>\n",
       "      <td>9</td>\n",
       "      <td>7</td>\n",
       "      <td>5</td>\n",
       "      <td>0</td>\n",
       "      <td>0</td>\n",
       "    </tr>\n",
       "    <tr>\n",
       "      <th>5</th>\n",
       "      <td>2024-09-01</td>\n",
       "      <td>12</td>\n",
       "      <td>7</td>\n",
       "      <td>0</td>\n",
       "      <td>1</td>\n",
       "      <td>0</td>\n",
       "    </tr>\n",
       "  </tbody>\n",
       "</table>\n",
       "</div>"
      ],
      "text/plain": [
       "        Data  Lindemberg  César  Cezimar  Eduardo  Ináico\n",
       "0 2024-07-21           6      4        2        0       0\n",
       "1 2024-07-28           7      5        0        0       0\n",
       "2 2024-08-03           8      6        4        0       0\n",
       "3 2024-08-15           9      7        0        0       0\n",
       "4 2024-08-24           9      7        5        0       0\n",
       "5 2024-09-01          12      7        0        1       0"
      ]
     },
     "execution_count": 96,
     "metadata": {},
     "output_type": "execute_result"
    }
   ],
   "source": [
    "df_placar = pd.read_excel(\"placar.xlsx\")\n",
    "pontuacao"
   ]
  },
  {
   "cell_type": "code",
   "execution_count": 95,
   "metadata": {},
   "outputs": [
    {
     "data": {
      "text/html": [
       "<div>\n",
       "<style scoped>\n",
       "    .dataframe tbody tr th:only-of-type {\n",
       "        vertical-align: middle;\n",
       "    }\n",
       "\n",
       "    .dataframe tbody tr th {\n",
       "        vertical-align: top;\n",
       "    }\n",
       "\n",
       "    .dataframe thead th {\n",
       "        text-align: right;\n",
       "    }\n",
       "</style>\n",
       "<table border=\"1\" class=\"dataframe\">\n",
       "  <thead>\n",
       "    <tr style=\"text-align: right;\">\n",
       "      <th></th>\n",
       "      <th>21/07/2024</th>\n",
       "      <th>28/07/2024</th>\n",
       "      <th>03/08/2024</th>\n",
       "      <th>15/08/2024</th>\n",
       "      <th>24/08/2024</th>\n",
       "      <th>01/09/2024</th>\n",
       "    </tr>\n",
       "  </thead>\n",
       "  <tbody>\n",
       "    <tr>\n",
       "      <th>0</th>\n",
       "      <td>6</td>\n",
       "      <td>7</td>\n",
       "      <td>8</td>\n",
       "      <td>9</td>\n",
       "      <td>9</td>\n",
       "      <td>12</td>\n",
       "    </tr>\n",
       "  </tbody>\n",
       "</table>\n",
       "</div>"
      ],
      "text/plain": [
       "   21/07/2024  28/07/2024  03/08/2024  15/08/2024  24/08/2024  01/09/2024\n",
       "0           6           7           8           9           9          12"
      ]
     },
     "execution_count": 95,
     "metadata": {},
     "output_type": "execute_result"
    }
   ],
   "source": [
    "# Lindemberg dicionário \n",
    "lindemberg = {\n",
    "    \"21/07/2024\": 6,\n",
    "    \"28/07/2024\": 7,\n",
    "    \"03/08/2024\": 8,\n",
    "    \"15/08/2024\": 9,\n",
    "    \"24/08/2024\": 9,\n",
    "    \"01/09/2024\": 12\n",
    "}\n",
    "\n",
    "df_lindemberg = pd.DataFrame([lindemberg])\n",
    "df_lindemberg"
   ]
  },
  {
   "cell_type": "code",
   "execution_count": 89,
   "metadata": {},
   "outputs": [],
   "source": [
    "\n",
    "# César dicionário \n",
    "cesar = {\n",
    "    \"21/07/2024\": 4,\n",
    "    \"28/07/2024\": 5,\n",
    "    \"03/08/2024\": 6,\n",
    "    \"15/08/2024\": 7,\n",
    "    \"24/08/2024\": 7,\n",
    "    \"01/09/2024\": 7\n",
    "}\n",
    "\n",
    "df_cesar = pd.DataFrame([cesar])\n",
    "\n",
    "# Cezimar dicionário \n",
    "cezimar = {\n",
    "    \"21/07/2024\": 2,\n",
    "    \"28/07/2024\": 2,\n",
    "    \"03/08/2024\": 4,\n",
    "    \"15/08/2024\": 4,\n",
    "    \"24/08/2024\": 5,\n",
    "    \"01/09/2024\": 5\n",
    "}\n",
    "\n",
    "df_cezimar = pd.DataFrame([cezimar])\n",
    "\n",
    "# Eduardo dicionário \n",
    "eduardo = {\n",
    "    \"21/07/2024\": 0,\n",
    "    \"28/07/2024\": 0,\n",
    "    \"03/08/2024\": 0,\n",
    "    \"15/08/2024\": 0,\n",
    "    \"24/08/2024\": 0,\n",
    "    \"01/09/2024\": 1\n",
    "}\n",
    "\n",
    "df_eduardo = pd.DataFrame([eduardo])\n",
    "\n",
    "# Inácio dicionário \n",
    "inacio = {\n",
    "    \"21/07/2024\": 0,\n",
    "    \"28/07/2024\": 0,\n",
    "    \"03/08/2024\": 0,\n",
    "    \"15/08/2024\": 0,\n",
    "    \"24/08/2024\": 0,\n",
    "    \"01/09/2024\": 0\n",
    "}\n",
    "\n",
    "df_inacio = pd.DataFrame([inacio])\n",
    "\n",
    "ordem_colunas = ['César', 'Cezimar', 'Inácio', 'Lindemberg']\n",
    "\n",
    "# Josivan dicionário \n",
    "#josivan = {\"21/07/2024\": 0, \"28/07/2024\": 0, \"03/08/2024\": 0, \"15/08/2024\": 0, \"24/08/2024\": 0, \"01/09/2024\": 0}\n",
    "\n",
    "\n",
    "# título\n",
    "\n",
    "\n"
   ]
  },
  {
   "cell_type": "code",
   "execution_count": 90,
   "metadata": {},
   "outputs": [],
   "source": [
    "\n",
    "\n",
    "\n",
    "# tabela ->\n",
    "df_placar = pd.DataFrame()\n"
   ]
  },
  {
   "cell_type": "markdown",
   "metadata": {},
   "source": [
    "# transforma o indice com nome dos clubess em uma coluna com o nome dos clubes\n",
    "#df_gols = df_gols[times].index\n",
    "df_gols = df_gols.reset_index(drop=True)\n",
    "# criando nova coluna com nome dos times\n",
    "df_gols[\"clubes\"] = times\n",
    "\n",
    "df_gols = df_gols.reindex(columns=nova_ordem_gols)\n",
    "df_gols\n",
    "\n",
    "\n"
   ]
  },
  {
   "cell_type": "code",
   "execution_count": 91,
   "metadata": {},
   "outputs": [],
   "source": [
    "ordem_colunas = ['César', 'Cezimar', 'Inácio', 'Lindemberg']\n",
    "df_placar = df_placar.reset_index(drop=True)\n",
    "df_placar = df_placar.reindex(columns=ordem_colunas)\n",
    "#df_placar = df_placar.rename(columns={0: 'Data'})\n",
    "df_placar[\"Lindemberg\"] = df_lindemberg.sum()\n",
    "df_placar[\"César\"] = df_cesar.sum()\n",
    "df_placar[\"Cezimar\"] = df_cezimar.sum()\n",
    "df_placar[\"Inácio\"] = df_inacio.sum()\n"
   ]
  },
  {
   "cell_type": "code",
   "execution_count": 92,
   "metadata": {},
   "outputs": [
    {
     "name": "stdout",
     "output_type": "stream",
     "text": [
      "Index(['César', 'Cezimar', 'Inácio', 'Lindemberg'], dtype='object')\n"
     ]
    }
   ],
   "source": [
    "print(df_placar.columns)"
   ]
  },
  {
   "cell_type": "code",
   "execution_count": 93,
   "metadata": {},
   "outputs": [
    {
     "name": "stdout",
     "output_type": "stream",
     "text": [
      "<class 'pandas.core.frame.DataFrame'>\n",
      "Index: 6 entries, 21/07/2024 to 01/09/2024\n",
      "Data columns (total 4 columns):\n",
      " #   Column      Non-Null Count  Dtype\n",
      "---  ------      --------------  -----\n",
      " 0   César       6 non-null      int64\n",
      " 1   Cezimar     6 non-null      int64\n",
      " 2   Inácio      6 non-null      int64\n",
      " 3   Lindemberg  6 non-null      int64\n",
      "dtypes: int64(4)\n",
      "memory usage: 240.0+ bytes\n"
     ]
    }
   ],
   "source": [
    "df_placar.info()"
   ]
  },
  {
   "cell_type": "code",
   "execution_count": 94,
   "metadata": {},
   "outputs": [
    {
     "data": {
      "text/html": [
       "<div>\n",
       "<style scoped>\n",
       "    .dataframe tbody tr th:only-of-type {\n",
       "        vertical-align: middle;\n",
       "    }\n",
       "\n",
       "    .dataframe tbody tr th {\n",
       "        vertical-align: top;\n",
       "    }\n",
       "\n",
       "    .dataframe thead th {\n",
       "        text-align: right;\n",
       "    }\n",
       "</style>\n",
       "<table border=\"1\" class=\"dataframe\">\n",
       "  <thead>\n",
       "    <tr style=\"text-align: right;\">\n",
       "      <th></th>\n",
       "      <th>César</th>\n",
       "      <th>Cezimar</th>\n",
       "      <th>Inácio</th>\n",
       "      <th>Lindemberg</th>\n",
       "    </tr>\n",
       "  </thead>\n",
       "  <tbody>\n",
       "    <tr>\n",
       "      <th>21/07/2024</th>\n",
       "      <td>4</td>\n",
       "      <td>2</td>\n",
       "      <td>0</td>\n",
       "      <td>6</td>\n",
       "    </tr>\n",
       "    <tr>\n",
       "      <th>28/07/2024</th>\n",
       "      <td>5</td>\n",
       "      <td>2</td>\n",
       "      <td>0</td>\n",
       "      <td>7</td>\n",
       "    </tr>\n",
       "    <tr>\n",
       "      <th>03/08/2024</th>\n",
       "      <td>6</td>\n",
       "      <td>4</td>\n",
       "      <td>0</td>\n",
       "      <td>8</td>\n",
       "    </tr>\n",
       "    <tr>\n",
       "      <th>15/08/2024</th>\n",
       "      <td>7</td>\n",
       "      <td>4</td>\n",
       "      <td>0</td>\n",
       "      <td>9</td>\n",
       "    </tr>\n",
       "    <tr>\n",
       "      <th>24/08/2024</th>\n",
       "      <td>7</td>\n",
       "      <td>5</td>\n",
       "      <td>0</td>\n",
       "      <td>9</td>\n",
       "    </tr>\n",
       "    <tr>\n",
       "      <th>01/09/2024</th>\n",
       "      <td>7</td>\n",
       "      <td>5</td>\n",
       "      <td>0</td>\n",
       "      <td>12</td>\n",
       "    </tr>\n",
       "  </tbody>\n",
       "</table>\n",
       "</div>"
      ],
      "text/plain": [
       "            César  Cezimar  Inácio  Lindemberg\n",
       "21/07/2024      4        2       0           6\n",
       "28/07/2024      5        2       0           7\n",
       "03/08/2024      6        4       0           8\n",
       "15/08/2024      7        4       0           9\n",
       "24/08/2024      7        5       0           9\n",
       "01/09/2024      7        5       0          12"
      ]
     },
     "execution_count": 94,
     "metadata": {},
     "output_type": "execute_result"
    }
   ],
   "source": [
    "df_placar"
   ]
  }
 ],
 "metadata": {
  "kernelspec": {
   "display_name": "venv",
   "language": "python",
   "name": "python3"
  },
  "language_info": {
   "codemirror_mode": {
    "name": "ipython",
    "version": 3
   },
   "file_extension": ".py",
   "mimetype": "text/x-python",
   "name": "python",
   "nbconvert_exporter": "python",
   "pygments_lexer": "ipython3",
   "version": "3.12.3"
  }
 },
 "nbformat": 4,
 "nbformat_minor": 2
}
